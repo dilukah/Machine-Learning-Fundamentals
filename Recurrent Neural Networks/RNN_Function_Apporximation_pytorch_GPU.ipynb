{
 "cells": [
  {
   "cell_type": "markdown",
   "metadata": {},
   "source": [
    "# RNN training a random function (exponential decay tested) on GPU\n",
    "\n",
    "References\n",
    "\n",
    "https://medium.com/swlh/introduction-to-recurrent-neural-networks-rnns-347903dd8d81\n",
    "\n",
    "https://gist.github.com/tims457/60d1b1688dfab3e02cbd9bbd83b49a66\n",
    "\n",
    "https://wandb.ai/wandb/common-ml-errors/reports/How-To-Use-GPU-with-PyTorch---VmlldzozMzAxMDk"
   ]
  },
  {
   "cell_type": "code",
   "execution_count": 45,
   "metadata": {},
   "outputs": [
    {
     "name": "stdout",
     "output_type": "stream",
     "text": [
      "True\n",
      "Training Device:  cuda:0\n",
      "Number of GPUs:  1\n",
      "GPU: GeForce GTX 1660 Ti with Max-Q Design\n"
     ]
    }
   ],
   "source": [
    "import torch\n",
    "import torch.nn as nn\n",
    "import torch.nn.functional as F\n",
    "import matplotlib.pyplot as plt\n",
    "from torch.utils.data import DataLoader, Dataset\n",
    "\n",
    "print(torch.cuda.is_available())\n",
    "device = torch.device(\"cuda:0\" if torch.cuda.is_available() else \"cpu\")\n",
    "print(\"Training Device: \", device)\n",
    "if torch.cuda.is_available():\n",
    "    print(\"Number of GPUs: \", torch.cuda.device_count())\n",
    "    print(\"GPU:\", torch.cuda.get_device_name(0))"
   ]
  },
  {
   "cell_type": "markdown",
   "metadata": {},
   "source": [
    "# Creating an RNN module from scratch"
   ]
  },
  {
   "cell_type": "code",
   "execution_count": 46,
   "metadata": {},
   "outputs": [],
   "source": [
    "class RNNCell(nn.Module):\n",
    "    \n",
    "    def __init__(self, inputSize, hiddenSize, outputSize):\n",
    "        super(RNNCell, self).__init__()\n",
    "        self.Wx = torch.randn(hiddenSize, inputSize) # input weights\n",
    "        self.Wh = torch.randn(hiddenSize, hiddenSize) # hidden weights\n",
    "        #self.Wy = torch.randn(outputSize,recurhiddenSizerentSize) # output weights\n",
    "        self.Wy = torch.randn(outputSize, hiddenSize) # output weights\n",
    "        self.h = torch.zeros(hiddenSize,1) # initial hidden state\n",
    "        self.bh = torch.zeros(hiddenSize,1) # hidden state bias\n",
    "        self.by = torch.zeros(outputSize,1) # output bias\n",
    "def forward(self, x):\n",
    "        self.h = torch.tanh(self.bh + torch.matmul(self.Wx, x) + torch.matmul(self.Wh,self.h))\n",
    "        output = nn.Softmax(self.by + torch.matmul(self.Wy,self.h))\n",
    "        \n",
    "        return output, self.h"
   ]
  },
  {
   "cell_type": "code",
   "execution_count": 47,
   "metadata": {},
   "outputs": [],
   "source": [
    "class RNNData(Dataset):\n",
    "    def __init__(self, X, sequenceLength):\n",
    "        'Initialization'\n",
    "        self.X = X\n",
    "        self.sequenceLength = sequenceLength\n",
    "    def __len__(self):\n",
    "        'Denotes the total number of samples'\n",
    "        return int(torch.floor(torch.tensor(len(self.X)/self.sequenceLength)))\n",
    "    \n",
    "    def __getitem__(self, index):\n",
    "        sequence = self.X[index:index+self.sequenceLength]\n",
    "        y = self.X[index+self.sequenceLength+1]\n",
    "        return sequence, y"
   ]
  },
  {
   "cell_type": "markdown",
   "metadata": {},
   "source": [
    "# Generate a signal for training"
   ]
  },
  {
   "cell_type": "code",
   "execution_count": 48,
   "metadata": {},
   "outputs": [
    {
     "data": {
      "text/plain": [
       "Text(0.5, 0, 'x')"
      ]
     },
     "execution_count": 48,
     "metadata": {},
     "output_type": "execute_result"
    },
    {
     "data": {
      "image/png": "[encoded data removed]",
      "text/plain": [
       "<Figure size 432x288 with 1 Axes>"
      ]
     },
     "metadata": {
      "needs_background": "light"
     },
     "output_type": "display_data"
    }
   ],
   "source": [
    "X = torch.sin(torch.linspace(0,100,100000))*torch.exp(-0.03*torch.linspace(0,100,100000))\n",
    "\n",
    "plt.plot(X)\n",
    "plt.ylabel('Sin x')\n",
    "plt.xlabel('x')"
   ]
  },
  {
   "cell_type": "code",
   "execution_count": 53,
   "metadata": {},
   "outputs": [],
   "source": [
    "#hyperparameters\n",
    "batchSize = 100 \n",
    "sequenceLength = 50\n",
    "numLayers = 1\n",
    "hiddenSize = 4\n",
    "learningRate = 0.01\n",
    "epochs = 300"
   ]
  },
  {
   "cell_type": "code",
   "execution_count": 54,
   "metadata": {},
   "outputs": [
    {
     "name": "stdout",
     "output_type": "stream",
     "text": [
      "tensor([[0.8792, 0.8796, 0.8800,  ..., 0.8958, 0.8961, 0.8965],\n",
      "        [0.5100, 0.5108, 0.5117,  ..., 0.5482, 0.5490, 0.5498],\n",
      "        [0.2579, 0.2589, 0.2598,  ..., 0.3022, 0.3032, 0.3041],\n",
      "        ...,\n",
      "        [0.4326, 0.4335, 0.4344,  ..., 0.4731, 0.4740, 0.4748],\n",
      "        [0.8649, 0.8645, 0.8641,  ..., 0.8452, 0.8448, 0.8443],\n",
      "        [0.9420, 0.9422, 0.9423,  ..., 0.9482, 0.9483, 0.9484]])\n",
      "tensor([0.8971, 0.5514, 0.3060, 0.8378, 0.8723, 0.1163, 0.3794, 0.9359, 0.9178,\n",
      "        0.8230, 0.6644, 0.9303, 0.8708, 0.9448, 0.3347, 0.8939, 0.9250, 0.9239,\n",
      "        0.2872, 0.9378, 0.2043, 0.9400, 0.6474, 0.9525, 0.6623, 0.9451, 0.9544,\n",
      "        0.7840, 0.9264, 0.6706, 0.6581, 0.9544, 0.9085, 0.9532, 0.7933, 0.5711,\n",
      "        0.7790, 0.6823, 0.9528, 0.9130, 0.8576, 0.2665, 0.9272, 0.8250, 0.8500,\n",
      "        0.8668, 0.9168, 0.1615, 0.9473, 0.4816, 0.8568, 0.9472, 0.9105, 0.2608,\n",
      "        0.7127, 0.3658, 0.3366, 0.0728, 0.9474, 0.8788, 0.8433, 0.1350, 0.9540,\n",
      "        0.9189, 0.3558, 0.1478, 0.8958, 0.8136, 0.8872, 0.9448, 0.4900, 0.8538,\n",
      "        0.9184, 0.9144, 0.0817, 0.8353, 0.5538, 0.8918, 0.2465, 0.8464, 0.7812,\n",
      "        0.9498, 0.5719, 0.9469, 0.8938, 0.7410, 0.2985, 0.8451, 0.9342, 0.2684,\n",
      "        0.8765, 0.7949, 0.8461, 0.9419, 0.8829, 0.6917, 0.8585, 0.4765, 0.8434,\n",
      "        0.9486])\n"
     ]
    }
   ],
   "source": [
    "data = RNNData(X,sequenceLength)\n",
    "dataLoader = DataLoader(data, batch_size=batchSize, shuffle=True)\n",
    "for x,y in dataLoader:\n",
    "    print(x)\n",
    "    print(y)\n",
    "    break"
   ]
  },
  {
   "cell_type": "markdown",
   "metadata": {},
   "source": [
    "## Using Pytorch RNN Module"
   ]
  },
  {
   "cell_type": "code",
   "execution_count": 55,
   "metadata": {},
   "outputs": [],
   "source": [
    "# create our RNN based network with an RNN followed by a linear layer\n",
    "class RNN(nn.Module):\n",
    "    def __init__(self, inputSize, hiddenSize, numLayers):\n",
    "        super().__init__()\n",
    "        self.RNN = nn.RNN(input_size=inputSize, \n",
    "                          hidden_size=hiddenSize, \n",
    "                          num_layers=numLayers, \n",
    "                          nonlinearity='tanh', \n",
    "                          batch_first=True) #inputs and outputs are  (batch, seq, feature)\n",
    "        self.linear = nn.Linear(hiddenSize,1)\n",
    "        \n",
    "    def forward(self,x,hState):\n",
    "        x, h = self.RNN(x,hState)\n",
    "        out = self.linear(x[:,-1,:]) # gets last output\n",
    "        return out\n",
    "# create our network instance, pick loss function and optimizer\n",
    "model = RNN(1,hiddenSize,numLayers)\n",
    "model.to(device)\n",
    "lossFn = nn.MSELoss()\n",
    "optimizer = torch.optim.Adam(model.parameters(), lr=learningRate)"
   ]
  },
  {
   "cell_type": "markdown",
   "metadata": {},
   "source": [
    "# Test model output"
   ]
  },
  {
   "cell_type": "code",
   "execution_count": 56,
   "metadata": {},
   "outputs": [
    {
     "data": {
      "text/plain": [
       "torch.Size([100, 1])"
      ]
     },
     "execution_count": 56,
     "metadata": {},
     "output_type": "execute_result"
    }
   ],
   "source": [
    "ytest = model(torch.randn(batchSize,sequenceLength,1).to(device),torch.zeros([numLayers, batchSize, hiddenSize]).to(device))\n",
    "ytest.shape"
   ]
  },
  {
   "cell_type": "markdown",
   "metadata": {},
   "source": [
    "# Training model"
   ]
  },
  {
   "cell_type": "code",
   "execution_count": 57,
   "metadata": {},
   "outputs": [
    {
     "name": "stdout",
     "output_type": "stream",
     "text": [
      "9.883400917053223\n",
      "1.4208420515060425\n",
      "0.9086443781852722\n",
      "0.6829332709312439\n",
      "0.4269893765449524\n",
      "0.15865756571292877\n",
      "0.019717056304216385\n",
      "0.01151065994054079\n",
      "0.008704574778676033\n",
      "0.007722010836005211\n",
      "0.0069812266156077385\n",
      "0.00635660532861948\n",
      "0.005756073631346226\n",
      "0.005269619636237621\n",
      "0.004793174099177122\n",
      "0.004351380281150341\n",
      "0.004004692193120718\n",
      "0.0036380139645189047\n",
      "0.0033152922987937927\n",
      "0.0030106897465884686\n",
      "0.002739506773650646\n",
      "0.002510268008336425\n",
      "0.002313492586836219\n",
      "0.0020746919326484203\n",
      "0.0018577052978798747\n",
      "0.0016888681566342711\n",
      "0.0015280438819900155\n",
      "0.0013768861535936594\n",
      "0.001256870455108583\n",
      "0.0011387750273570418\n",
      "0.0010282304137945175\n",
      "0.0009415018139407039\n",
      "0.000851472548674792\n",
      "0.0007821602048352361\n",
      "0.000733883585780859\n",
      "0.0006531712715514004\n",
      "0.000607664289418608\n",
      "0.0005537734250538051\n",
      "0.0005114105879329145\n",
      "0.0004833410494029522\n",
      "0.0004614827048499137\n",
      "0.0004315684491302818\n",
      "0.000415114191127941\n",
      "0.0003946460783481598\n",
      "0.0003780002589337528\n",
      "0.0003679507353808731\n",
      "0.0003542035701684654\n",
      "0.0003443017485551536\n",
      "0.00034209107980132103\n",
      "0.00033570826053619385\n",
      "0.0003236690245103091\n",
      "0.0003183533262927085\n",
      "0.00032364652724936604\n",
      "0.0003217384801246226\n",
      "0.00031130906427279115\n",
      "0.0003084180352743715\n",
      "0.00029932011966593564\n",
      "0.0002961842401418835\n",
      "0.00029056845232844353\n",
      "0.00028797786217182875\n",
      "0.00029230528161861\n",
      "0.0002850704186130315\n",
      "0.0002916023076977581\n",
      "0.00027093253447674215\n",
      "0.0002723096695262939\n",
      "0.00027942389715462923\n",
      "0.000273173616733402\n",
      "0.0002587382332421839\n",
      "0.000261003035120666\n",
      "0.00025540549540892243\n",
      "0.00025402288883924484\n",
      "0.000248184718657285\n",
      "0.00025702727725729346\n",
      "0.0002497074892744422\n",
      "0.00024082258460111916\n",
      "0.0002420046948827803\n",
      "0.0002666498185135424\n",
      "0.00025058412575162947\n",
      "0.00024414793006144464\n",
      "0.00023706098727416247\n",
      "0.00023565170704387128\n",
      "0.00022559016360901296\n",
      "0.00022520747734233737\n",
      "0.0002244845381937921\n",
      "0.00021632546850014478\n",
      "0.0002148258499801159\n",
      "0.00021889123308937997\n",
      "0.00022588996216654778\n",
      "0.00021647718676831573\n",
      "0.00020197645062580705\n",
      "0.00020416922052390873\n",
      "0.00020244700135663152\n",
      "0.00019972046720795333\n",
      "0.00019918123143725097\n",
      "0.00020937914086971432\n",
      "0.0002236237924080342\n",
      "0.00019168427388649434\n",
      "0.00019182713003829122\n",
      "0.00019797917047981173\n",
      "0.00020594564557541162\n",
      "0.0001923662202898413\n",
      "0.00017981203563977033\n",
      "0.00019225236610509455\n",
      "0.00017824320821091533\n",
      "0.00019145451369695365\n",
      "0.0001851903070928529\n",
      "0.00017450624727644026\n",
      "0.00019936627359129488\n",
      "0.0001819189783418551\n",
      "0.00017300518811680377\n",
      "0.00016357505228370428\n",
      "0.00016833502741064876\n",
      "0.00016558555944357067\n",
      "0.00017044032574631274\n",
      "0.00015903169696684927\n",
      "0.00015475437976419926\n",
      "0.000152235574205406\n",
      "0.000164287761435844\n",
      "0.00018308113794773817\n",
      "0.00015693208843003958\n",
      "0.00015268655261024833\n",
      "0.0001861216005636379\n",
      "0.00014325139636639506\n",
      "0.00014261668547987938\n",
      "0.00014266198559198529\n",
      "0.00013664871221408248\n",
      "0.00014347060641739517\n",
      "0.0001385612558806315\n",
      "0.00014918386295903474\n",
      "0.00014026906865183264\n",
      "0.000136132599436678\n",
      "0.00013568002032116055\n",
      "0.00013529937132261693\n",
      "0.0001434600999346003\n",
      "0.00012703586253337562\n",
      "0.00012951770622748882\n",
      "0.00012774491915479302\n",
      "0.00012417543621268123\n",
      "0.00012164528743596748\n",
      "0.00013030337868258357\n",
      "0.00012653756130021065\n",
      "0.00012222438817843795\n",
      "0.0001328048820141703\n",
      "0.00011850265582324937\n",
      "0.00012372889614198357\n",
      "0.0001229833287652582\n",
      "0.000117773815873079\n",
      "0.00010909273260040209\n",
      "0.0001324192708125338\n",
      "0.00011338707554386929\n",
      "0.0001408878742950037\n",
      "0.00012337292719166726\n",
      "0.00014619393914472312\n",
      "0.00010661449778126553\n",
      "0.00010245635348837823\n",
      "0.00011095368972746655\n",
      "9.422030416317284e-05\n",
      "9.76289520622231e-05\n",
      "9.819077968131751e-05\n",
      "9.673797467257828e-05\n",
      "0.00010864525393117219\n",
      "0.00011181236914126202\n",
      "0.0001043220327119343\n",
      "9.978013986255974e-05\n",
      "9.879498975351453e-05\n",
      "8.738217002246529e-05\n",
      "9.2144517111592e-05\n",
      "0.00010453714639879763\n",
      "8.847226854413748e-05\n",
      "0.00010385026689618826\n",
      "0.00010595469211693853\n",
      "8.391276787733659e-05\n",
      "9.784766007214785e-05\n",
      "9.742487600306049e-05\n",
      "8.572425576858222e-05\n",
      "0.00010647776070982218\n",
      "9.55024006543681e-05\n",
      "0.00011447894212324172\n",
      "8.784886449575424e-05\n",
      "0.0001512434391770512\n",
      "0.00010352876415709034\n",
      "7.630809705005959e-05\n",
      "0.00011724516662070528\n",
      "0.00013428607780952007\n",
      "0.00012557042646221817\n",
      "8.964171138359234e-05\n",
      "9.406709432369098e-05\n",
      "7.45790675864555e-05\n",
      "7.606630970258266e-05\n",
      "7.753664249321446e-05\n",
      "6.512878462672234e-05\n",
      "9.197737381327897e-05\n",
      "7.452433055732399e-05\n",
      "9.125323413172737e-05\n",
      "9.100166789721698e-05\n",
      "6.120738544268534e-05\n",
      "5.764697561971843e-05\n",
      "6.0531325289048254e-05\n",
      "7.218360406113788e-05\n",
      "5.964962474536151e-05\n",
      "6.75378178129904e-05\n",
      "6.711266178172082e-05\n",
      "6.05570494371932e-05\n",
      "0.00010587701399344951\n",
      "7.540819933637977e-05\n",
      "6.41887600068003e-05\n",
      "6.10087881796062e-05\n",
      "5.9647300076903775e-05\n",
      "7.621846452821046e-05\n",
      "6.454489630414173e-05\n",
      "7.059476774884388e-05\n",
      "5.255828727968037e-05\n",
      "5.466015500132926e-05\n",
      "9.102329931920394e-05\n",
      "0.00012420013081282377\n",
      "0.00011736558371922001\n",
      "0.00011335515591781586\n",
      "9.76046358118765e-05\n",
      "6.0443573602242395e-05\n",
      "5.397421773523092e-05\n",
      "5.1067832828266546e-05\n",
      "4.5673536078538746e-05\n",
      "5.1364961109356955e-05\n",
      "6.354338256642222e-05\n",
      "7.741684385109693e-05\n",
      "6.072543328627944e-05\n",
      "6.632528675254434e-05\n",
      "7.128553988877684e-05\n",
      "9.122592746280134e-05\n",
      "7.942618685774505e-05\n",
      "5.8320620155427605e-05\n",
      "8.86740890564397e-05\n",
      "6.220649811439216e-05\n",
      "3.662684321170673e-05\n",
      "3.870623913826421e-05\n",
      "0.00010727858170866966\n",
      "7.22824624972418e-05\n",
      "6.040363950887695e-05\n",
      "5.835626143380068e-05\n",
      "0.00013286565081216395\n",
      "9.702149691293016e-05\n",
      "6.235809996724129e-05\n",
      "6.306188879534602e-05\n",
      "7.115603511920199e-05\n",
      "3.883144381688908e-05\n",
      "5.265558502287604e-05\n",
      "8.324740338139236e-05\n",
      "7.13547706254758e-05\n",
      "0.00010789370571728796\n",
      "7.495838508475572e-05\n",
      "0.0001388075324939564\n",
      "0.0001715082471491769\n",
      "3.6664110666606575e-05\n",
      "2.852270336006768e-05\n",
      "4.41863558080513e-05\n",
      "3.116460356977768e-05\n",
      "0.00011156262189615518\n",
      "0.00015186629025265574\n",
      "3.437325358390808e-05\n",
      "3.396051761228591e-05\n",
      "6.697623757645488e-05\n",
      "5.1165428885724396e-05\n",
      "7.269654452102259e-05\n",
      "4.85579039377626e-05\n",
      "6.270338053582236e-05\n",
      "7.932496373541653e-05\n",
      "7.234670192701742e-05\n",
      "4.1902847442543134e-05\n",
      "2.6098405214725062e-05\n",
      "2.428933476039674e-05\n",
      "6.873378151794896e-05\n",
      "5.215749843046069e-05\n",
      "8.307584357680753e-05\n",
      "4.792238905793056e-05\n",
      "2.9333665224839933e-05\n",
      "3.416963591007516e-05\n",
      "0.00018775879289023578\n",
      "0.00012827283353544772\n",
      "9.570775728207082e-05\n",
      "7.183472189353779e-05\n",
      "0.00012920612061861902\n",
      "0.0001206022861879319\n",
      "2.9030125006102026e-05\n",
      "3.58607285306789e-05\n",
      "3.3381846151314676e-05\n",
      "5.664730633725412e-05\n",
      "6.21340295765549e-05\n",
      "3.7152025470277295e-05\n",
      "0.00013532419688999653\n",
      "0.00012539456656668335\n",
      "5.2812414651270956e-05\n",
      "0.00010964018292725086\n",
      "5.605439218925312e-05\n",
      "5.023850462748669e-05\n",
      "8.057947707129642e-05\n",
      "3.291582106612623e-05\n",
      "5.29535100213252e-05\n",
      "1.7557413229951635e-05\n",
      "4.095689291716553e-05\n",
      "4.693383743870072e-05\n"
     ]
    },
    {
     "data": {
      "text/plain": [
       "Text(0, 0.5, 'Loss')"
      ]
     },
     "execution_count": 57,
     "metadata": {},
     "output_type": "execute_result"
    },
    {
     "data": {
      "image/png": "[encoded data removed]",
      "text/plain": [
       "<Figure size 432x288 with 1 Axes>"
      ]
     },
     "metadata": {
      "needs_background": "light"
     },
     "output_type": "display_data"
    }
   ],
   "source": [
    "model.train()\n",
    "lossHistory = []\n",
    "for epoch in range(epochs):\n",
    "    lossTotal = 0\n",
    "    for x,y in dataLoader:\n",
    "        x, y = x.to(device), y.to(device)\n",
    "        hState = torch.zeros([numLayers, batchSize, hiddenSize])\n",
    "        hState = hState.to(device)\n",
    "        yhat= model(x.reshape([batchSize,sequenceLength, 1]),hState)\n",
    "        \n",
    "        loss = lossFn(yhat.view(-1),y)\n",
    "        \n",
    "        model.zero_grad()\n",
    "        loss.backward()\n",
    "        optimizer.step()\n",
    "        \n",
    "        lossTotal +=loss\n",
    "    lossHistory.append(lossTotal.detach().cpu().numpy())\n",
    "    #https://stackoverflow.com/questions/63582590/why-do-we-call-detach-before-calling-numpy-on-a-pytorch-tensor\n",
    "    print(lossTotal.item())\n",
    "        \n",
    "plt.plot(lossHistory)\n",
    "plt.title('Loss')\n",
    "plt.xlabel('Epoch')\n",
    "plt.ylabel('Loss')"
   ]
  },
  {
   "cell_type": "code",
   "execution_count": 40,
   "metadata": {},
   "outputs": [
    {
     "ename": "RuntimeError",
     "evalue": "Input and parameter tensors are not at the same device, found input tensor at cpu and parameter tensor at cuda:0",
     "output_type": "error",
     "traceback": [
      "\u001b[1;31m---------------------------------------------------------------------------\u001b[0m",
      "\u001b[1;31mRuntimeError\u001b[0m                              Traceback (most recent call last)",
      "\u001b[1;32m~\\AppData\\Local\\Temp/ipykernel_19196/1598659431.py\u001b[0m in \u001b[0;36m<module>\u001b[1;34m\u001b[0m\n\u001b[0;32m      1\u001b[0m \u001b[0mmodel\u001b[0m\u001b[1;33m.\u001b[0m\u001b[0meval\u001b[0m\u001b[1;33m(\u001b[0m\u001b[1;33m)\u001b[0m\u001b[1;33m\u001b[0m\u001b[1;33m\u001b[0m\u001b[0m\n\u001b[1;32m----> 2\u001b[1;33m \u001b[0mmodel\u001b[0m\u001b[1;33m(\u001b[0m\u001b[0mX\u001b[0m\u001b[1;33m[\u001b[0m\u001b[1;36m0\u001b[0m\u001b[1;33m:\u001b[0m\u001b[0msequenceLength\u001b[0m\u001b[1;33m]\u001b[0m\u001b[1;33m.\u001b[0m\u001b[0mreshape\u001b[0m\u001b[1;33m(\u001b[0m\u001b[1;36m1\u001b[0m\u001b[1;33m,\u001b[0m\u001b[0msequenceLength\u001b[0m\u001b[1;33m,\u001b[0m\u001b[1;36m1\u001b[0m\u001b[1;33m)\u001b[0m\u001b[1;33m,\u001b[0m\u001b[0mtorch\u001b[0m\u001b[1;33m.\u001b[0m\u001b[0mzeros\u001b[0m\u001b[1;33m(\u001b[0m\u001b[1;33m[\u001b[0m\u001b[0mnumLayers\u001b[0m\u001b[1;33m,\u001b[0m \u001b[1;36m1\u001b[0m\u001b[1;33m,\u001b[0m \u001b[0mhiddenSize\u001b[0m\u001b[1;33m]\u001b[0m\u001b[1;33m)\u001b[0m\u001b[1;33m)\u001b[0m\u001b[1;33m\u001b[0m\u001b[1;33m\u001b[0m\u001b[0m\n\u001b[0m\u001b[0;32m      3\u001b[0m \u001b[1;33m\u001b[0m\u001b[0m\n",
      "\u001b[1;32mC:\\dev\\resources\\Anaconda3\\envs\\torchenv\\lib\\site-packages\\torch\\nn\\modules\\module.py\u001b[0m in \u001b[0;36m_call_impl\u001b[1;34m(self, *input, **kwargs)\u001b[0m\n\u001b[0;32m   1100\u001b[0m         if not (self._backward_hooks or self._forward_hooks or self._forward_pre_hooks or _global_backward_hooks\n\u001b[0;32m   1101\u001b[0m                 or _global_forward_hooks or _global_forward_pre_hooks):\n\u001b[1;32m-> 1102\u001b[1;33m             \u001b[1;32mreturn\u001b[0m \u001b[0mforward_call\u001b[0m\u001b[1;33m(\u001b[0m\u001b[1;33m*\u001b[0m\u001b[0minput\u001b[0m\u001b[1;33m,\u001b[0m \u001b[1;33m**\u001b[0m\u001b[0mkwargs\u001b[0m\u001b[1;33m)\u001b[0m\u001b[1;33m\u001b[0m\u001b[1;33m\u001b[0m\u001b[0m\n\u001b[0m\u001b[0;32m   1103\u001b[0m         \u001b[1;31m# Do not call functions when jit is used\u001b[0m\u001b[1;33m\u001b[0m\u001b[1;33m\u001b[0m\u001b[1;33m\u001b[0m\u001b[0m\n\u001b[0;32m   1104\u001b[0m         \u001b[0mfull_backward_hooks\u001b[0m\u001b[1;33m,\u001b[0m \u001b[0mnon_full_backward_hooks\u001b[0m \u001b[1;33m=\u001b[0m \u001b[1;33m[\u001b[0m\u001b[1;33m]\u001b[0m\u001b[1;33m,\u001b[0m \u001b[1;33m[\u001b[0m\u001b[1;33m]\u001b[0m\u001b[1;33m\u001b[0m\u001b[1;33m\u001b[0m\u001b[0m\n",
      "\u001b[1;32m~\\AppData\\Local\\Temp/ipykernel_19196/2635573858.py\u001b[0m in \u001b[0;36mforward\u001b[1;34m(self, x, hState)\u001b[0m\n\u001b[0;32m     11\u001b[0m \u001b[1;33m\u001b[0m\u001b[0m\n\u001b[0;32m     12\u001b[0m     \u001b[1;32mdef\u001b[0m \u001b[0mforward\u001b[0m\u001b[1;33m(\u001b[0m\u001b[0mself\u001b[0m\u001b[1;33m,\u001b[0m\u001b[0mx\u001b[0m\u001b[1;33m,\u001b[0m\u001b[0mhState\u001b[0m\u001b[1;33m)\u001b[0m\u001b[1;33m:\u001b[0m\u001b[1;33m\u001b[0m\u001b[1;33m\u001b[0m\u001b[0m\n\u001b[1;32m---> 13\u001b[1;33m         \u001b[0mx\u001b[0m\u001b[1;33m,\u001b[0m \u001b[0mh\u001b[0m \u001b[1;33m=\u001b[0m \u001b[0mself\u001b[0m\u001b[1;33m.\u001b[0m\u001b[0mRNN\u001b[0m\u001b[1;33m(\u001b[0m\u001b[0mx\u001b[0m\u001b[1;33m,\u001b[0m\u001b[0mhState\u001b[0m\u001b[1;33m)\u001b[0m\u001b[1;33m\u001b[0m\u001b[1;33m\u001b[0m\u001b[0m\n\u001b[0m\u001b[0;32m     14\u001b[0m         \u001b[0mout\u001b[0m \u001b[1;33m=\u001b[0m \u001b[0mself\u001b[0m\u001b[1;33m.\u001b[0m\u001b[0mlinear\u001b[0m\u001b[1;33m(\u001b[0m\u001b[0mx\u001b[0m\u001b[1;33m[\u001b[0m\u001b[1;33m:\u001b[0m\u001b[1;33m,\u001b[0m\u001b[1;33m-\u001b[0m\u001b[1;36m1\u001b[0m\u001b[1;33m,\u001b[0m\u001b[1;33m:\u001b[0m\u001b[1;33m]\u001b[0m\u001b[1;33m)\u001b[0m \u001b[1;31m# gets last output\u001b[0m\u001b[1;33m\u001b[0m\u001b[1;33m\u001b[0m\u001b[0m\n\u001b[0;32m     15\u001b[0m         \u001b[1;32mreturn\u001b[0m \u001b[0mout\u001b[0m\u001b[1;33m\u001b[0m\u001b[1;33m\u001b[0m\u001b[0m\n",
      "\u001b[1;32mC:\\dev\\resources\\Anaconda3\\envs\\torchenv\\lib\\site-packages\\torch\\nn\\modules\\module.py\u001b[0m in \u001b[0;36m_call_impl\u001b[1;34m(self, *input, **kwargs)\u001b[0m\n\u001b[0;32m   1100\u001b[0m         if not (self._backward_hooks or self._forward_hooks or self._forward_pre_hooks or _global_backward_hooks\n\u001b[0;32m   1101\u001b[0m                 or _global_forward_hooks or _global_forward_pre_hooks):\n\u001b[1;32m-> 1102\u001b[1;33m             \u001b[1;32mreturn\u001b[0m \u001b[0mforward_call\u001b[0m\u001b[1;33m(\u001b[0m\u001b[1;33m*\u001b[0m\u001b[0minput\u001b[0m\u001b[1;33m,\u001b[0m \u001b[1;33m**\u001b[0m\u001b[0mkwargs\u001b[0m\u001b[1;33m)\u001b[0m\u001b[1;33m\u001b[0m\u001b[1;33m\u001b[0m\u001b[0m\n\u001b[0m\u001b[0;32m   1103\u001b[0m         \u001b[1;31m# Do not call functions when jit is used\u001b[0m\u001b[1;33m\u001b[0m\u001b[1;33m\u001b[0m\u001b[1;33m\u001b[0m\u001b[0m\n\u001b[0;32m   1104\u001b[0m         \u001b[0mfull_backward_hooks\u001b[0m\u001b[1;33m,\u001b[0m \u001b[0mnon_full_backward_hooks\u001b[0m \u001b[1;33m=\u001b[0m \u001b[1;33m[\u001b[0m\u001b[1;33m]\u001b[0m\u001b[1;33m,\u001b[0m \u001b[1;33m[\u001b[0m\u001b[1;33m]\u001b[0m\u001b[1;33m\u001b[0m\u001b[1;33m\u001b[0m\u001b[0m\n",
      "\u001b[1;32mC:\\dev\\resources\\Anaconda3\\envs\\torchenv\\lib\\site-packages\\torch\\nn\\modules\\rnn.py\u001b[0m in \u001b[0;36mforward\u001b[1;34m(self, input, hx)\u001b[0m\n\u001b[0;32m    267\u001b[0m         \u001b[1;32mif\u001b[0m \u001b[0mbatch_sizes\u001b[0m \u001b[1;32mis\u001b[0m \u001b[1;32mNone\u001b[0m\u001b[1;33m:\u001b[0m\u001b[1;33m\u001b[0m\u001b[1;33m\u001b[0m\u001b[0m\n\u001b[0;32m    268\u001b[0m             result = _impl(input, hx, self._flat_weights, self.bias, self.num_layers,\n\u001b[1;32m--> 269\u001b[1;33m                            self.dropout, self.training, self.bidirectional, self.batch_first)\n\u001b[0m\u001b[0;32m    270\u001b[0m         \u001b[1;32melse\u001b[0m\u001b[1;33m:\u001b[0m\u001b[1;33m\u001b[0m\u001b[1;33m\u001b[0m\u001b[0m\n\u001b[0;32m    271\u001b[0m             result = _impl(input, batch_sizes, hx, self._flat_weights, self.bias,\n",
      "\u001b[1;31mRuntimeError\u001b[0m: Input and parameter tensors are not at the same device, found input tensor at cpu and parameter tensor at cuda:0"
     ]
    }
   ],
   "source": [
    "model.eval()\n",
    "model(X[0:sequenceLength].reshape(1,sequenceLength,1),torch.zeros([numLayers, 1, hiddenSize]))\n",
    "\n"
   ]
  },
  {
   "cell_type": "markdown",
   "metadata": {},
   "source": [
    "# Test model"
   ]
  },
  {
   "cell_type": "code",
   "execution_count": 11,
   "metadata": {},
   "outputs": [
    {
     "ename": "NameError",
     "evalue": "name 'np' is not defined",
     "output_type": "error",
     "traceback": [
      "\u001b[1;31m---------------------------------------------------------------------------\u001b[0m",
      "\u001b[1;31mNameError\u001b[0m                                 Traceback (most recent call last)",
      "\u001b[1;32m~\\AppData\\Local\\Temp/ipykernel_19196/2628613167.py\u001b[0m in \u001b[0;36m<module>\u001b[1;34m\u001b[0m\n\u001b[1;32m----> 1\u001b[1;33m \u001b[0mprint\u001b[0m\u001b[1;33m(\u001b[0m\u001b[0mnp\u001b[0m\u001b[1;33m.\u001b[0m\u001b[0mshape\u001b[0m\u001b[1;33m(\u001b[0m\u001b[0myData\u001b[0m\u001b[1;33m)\u001b[0m\u001b[1;33m)\u001b[0m\u001b[1;33m\u001b[0m\u001b[1;33m\u001b[0m\u001b[0m\n\u001b[0m",
      "\u001b[1;31mNameError\u001b[0m: name 'np' is not defined"
     ]
    }
   ],
   "source": [
    "print(np.shape(yData))"
   ]
  },
  {
   "cell_type": "code",
   "execution_count": 58,
   "metadata": {},
   "outputs": [
    {
     "data": {
      "text/plain": [
       "Text(0, 0.5, 'Sin(x)')"
      ]
     },
     "execution_count": 58,
     "metadata": {},
     "output_type": "execute_result"
    },
    {
     "data": {
      "image/png": "[encoded data removed]",
      "text/plain": [
       "<Figure size 432x288 with 1 Axes>"
      ]
     },
     "metadata": {
      "needs_background": "light"
     },
     "output_type": "display_data"
    }
   ],
   "source": [
    "import numpy as np\n",
    "model.to(device)\n",
    "iterations = 50000\n",
    "#yData = []\n",
    "#yDataSinModel = []\n",
    "\n",
    "yDataTensor = torch.zeros(iterations).to(device)\n",
    "yDataSinModel = np.zeros([iterations, 1],np.float64)\n",
    "hL = torch.zeros([numLayers, 1, hiddenSize]).to(device)\n",
    "for i in range(iterations):\n",
    "    yDataTensor[i] = model(X[i:i+sequenceLength].reshape(1,sequenceLength,1).to(device),hL).detach()[0]\n",
    "    yDataSinModel[i] = np.sin(i)\n",
    "\n",
    "yData = yDataTensor.cpu().numpy()\n",
    "print\n",
    "plt.plot(yData)\n",
    "plt.plot(X)\n",
    "plt.title('Sin Prediction')\n",
    "plt.xlabel('x')\n",
    "plt.ylabel('Sin(x)')"
   ]
  },
  {
   "cell_type": "markdown",
   "metadata": {},
   "source": [
    "# Another example to try \n",
    "https://www.cpuheater.com/deep-learning/introduction-to-recurrent-neural-networks-in-pytorch/\n",
    "https://github.com/cpuheater/pytorch_examples\n",
    "\n",
    "https://towardsdatascience.com/building-rnn-lstm-and-gru-for-time-series-using-pytorch-a46e5b094e7b"
   ]
  }
 ],
 "metadata": {
  "interpreter": {
   "hash": "759cb87a31f279a9e35702fc3c170018b616a4694be885c90e33cb89e9a54fb8"
  },
  "kernelspec": {
   "display_name": "Python 3.9.1 64-bit ('pycpp': conda)",
   "language": "python",
   "name": "python3"
  },
  "language_info": {
   "codemirror_mode": {
    "name": "ipython",
    "version": 3
   },
   "file_extension": ".py",
   "mimetype": "text/x-python",
   "name": "python",
   "nbconvert_exporter": "python",
   "pygments_lexer": "ipython3",
   "version": "3.7.11"
  },
  "orig_nbformat": 4
 },
 "nbformat": 4,
 "nbformat_minor": 2
}
